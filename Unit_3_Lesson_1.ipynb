{
  "nbformat": 4,
  "nbformat_minor": 0,
  "metadata": {
    "colab": {
      "name": "Unit 3 Lesson 1.ipynb",
      "provenance": [],
      "collapsed_sections": []
    },
    "kernelspec": {
      "name": "python3",
      "display_name": "Python 3"
    }
  },
  "cells": [
    {
      "cell_type": "code",
      "metadata": {
        "id": "DnNxVOsFWqUe",
        "colab_type": "code",
        "colab": {}
      },
      "source": [
        "import pandas as pd\n",
        "import numpy as np\n",
        "df = pd.read_csv('https://raw.githubusercontent.com/CunyLaguardiaDataAnalytics/datasets/master/Salaries.csv')\n",
        "df"
      ],
      "execution_count": null,
      "outputs": []
    },
    {
      "cell_type": "code",
      "metadata": {
        "id": "me0DfuhoxT3U",
        "colab_type": "code",
        "colab": {}
      },
      "source": [
        "#Import Excel File\n",
        "#from google.colab import files\n",
        "#uploaded = files.upload()\n",
        "#\n",
        "\n",
        "import io\n",
        "df1 = pd.read_excel(io.BytesIO(uploaded['COVIDSummaryDataV2.xlsx']))\n",
        "\n",
        "df2 = df1.groupby(['County'])['Case Count'].sum()\n",
        "print(df2)\n",
        "\n",
        "#export\n",
        "\n",
        "from google.colab import files\n",
        "df2.to_excel('CountyCaseCount.xlsx')\n",
        "files.download('CountyCaseCount.xlsx')\n"
      ],
      "execution_count": null,
      "outputs": []
    },
    {
      "cell_type": "code",
      "metadata": {
        "id": "klJQIzqBTrBB",
        "colab_type": "code",
        "colab": {
          "base_uri": "https://localhost:8080/",
          "height": 316
        },
        "outputId": "edf08f7f-1e9f-47ce-cda1-cf9f40e358a3"
      },
      "source": [
        "import pandas as pd\n",
        "import numpy as np\n",
        "df = pd.read_csv('https://raw.githubusercontent.com/CunyLaguardiaDataAnalytics/datasets/master/Salaries.csv')\n",
        "#df['salary'].mean()\n",
        "#df['salary'].median()\n",
        "#df.describe()\n",
        "\n",
        "#df = df.rename(columns = {'Unnamed: 0': 'Row Number'})\n",
        "#df\n",
        "#df\n",
        "\n",
        "#df.groupby(['sex'])['salary'].mean()\n",
        "df.groupby(['rank'])['salary','yrs.service'].min(),plot(kind='barh')\n",
        "\n",
        "\n"
      ],
      "execution_count": null,
      "outputs": [
        {
          "output_type": "stream",
          "text": [
            "/usr/local/lib/python3.6/dist-packages/ipykernel_launcher.py:13: FutureWarning: Indexing with multiple keys (implicitly converted to a tuple of keys) will be deprecated, use a list instead.\n",
            "  del sys.path[0]\n"
          ],
          "name": "stderr"
        },
        {
          "output_type": "execute_result",
          "data": {
            "text/plain": [
              "<matplotlib.axes._subplots.AxesSubplot at 0x7fa7f78b1e80>"
            ]
          },
          "metadata": {
            "tags": []
          },
          "execution_count": 8
        },
        {
          "output_type": "display_data",
          "data": {
            "image/png": "[encoded data removed]",
            "text/plain": [
              "<Figure size 432x288 with 1 Axes>"
            ]
          },
          "metadata": {
            "tags": [],
            "needs_background": "light"
          }
        }
      ]
    },
    {
      "cell_type": "code",
      "metadata": {
        "id": "KccfdNe4WnBz",
        "colab_type": "code",
        "colab": {}
      },
      "source": [
        ""
      ],
      "execution_count": null,
      "outputs": []
    },
    {
      "cell_type": "code",
      "metadata": {
        "id": "E1tRujksoMy-",
        "colab_type": "code",
        "colab": {
          "base_uri": "https://localhost:8080/",
          "height": 34
        },
        "outputId": "6c526983-8531-4d49-91a9-9563e025cb2c"
      },
      "source": [
        "import pandas as pd\n",
        "\n",
        "labels = ['a','b','c']\n",
        "my_data = [10,20,30]\n",
        "\n",
        "arr = pd.array(my_data)\n",
        "d = {'a':10, 'b':20, 'c':30}\n",
        "\n",
        "pd.Series(data=my_data, index=labels)\n",
        "\n",
        "print(d)\n"
      ],
      "execution_count": null,
      "outputs": [
        {
          "output_type": "stream",
          "text": [
            "{'a': 10, 'b': 20, 'c': 30}\n"
          ],
          "name": "stdout"
        }
      ]
    },
    {
      "cell_type": "code",
      "metadata": {
        "id": "ZzT6aKdKrUjB",
        "colab_type": "code",
        "colab": {
          "base_uri": "https://localhost:8080/",
          "height": 80
        },
        "outputId": "8b35e791-ec8a-4597-c8b0-a91552111b89"
      },
      "source": [
        "# Random Numbers\n",
        "import numpy as np\n",
        "import pandas as pd\n",
        "from numpy.random import randn\n",
        "np.random.seed(123)\n",
        "#df = pd.DataFrame(np.random.randn(5,4), ['A','B','C','D','E'], ['W','X','Y','Z'])\n",
        "\n",
        "\n",
        "df = pd.DataFrame(randn(5,4), ['A','B','C','D','E'], ['W','X','Y','Z'])\n",
        "\n",
        "\n",
        "#df = pd.DataFrame(np.random.randn(100, 4), columns=list('WXYZ'))\n",
        "#print(df)\n",
        "\n",
        "#df1 = df.loc['A']\n",
        "#print(df1)\n",
        "#df2 = df.iloc[1]\n",
        "#print(df2)\n",
        "\n",
        "\n",
        "#df[['W','X']]\n",
        "\n",
        "\n",
        "#df.drop('W',axis =1, inplace = True)\n",
        "#df\n",
        "\n",
        "#df2 = df[['W','X']]\n",
        "#df2\n",
        "\n",
        "#df\n",
        "#df.loc['C']\n",
        "#df.iloc[2]\n",
        "\n",
        "#booldf = df > 0\n",
        "#booldf\n",
        "#df[booldf]\n",
        "\n",
        "df\n",
        "df1 = df[(df['Y'] > 0) & (df['W'] >0 )]\n",
        "df1\n",
        "\n",
        "\n",
        "\n",
        "\n",
        "#df = df.rename(columns={'Unnamed: 0' : 'newName1', 'oldName2' : 'NewName2'})\n",
        "#df"
      ],
      "execution_count": null,
      "outputs": [
        {
          "output_type": "execute_result",
          "data": {
            "text/html": [
              "<div>\n",
              "<style scoped>\n",
              "    .dataframe tbody tr th:only-of-type {\n",
              "        vertical-align: middle;\n",
              "    }\n",
              "\n",
              "    .dataframe tbody tr th {\n",
              "        vertical-align: top;\n",
              "    }\n",
              "\n",
              "    .dataframe thead th {\n",
              "        text-align: right;\n",
              "    }\n",
              "</style>\n",
              "<table border=\"1\" class=\"dataframe\">\n",
              "  <thead>\n",
              "    <tr style=\"text-align: right;\">\n",
              "      <th></th>\n",
              "      <th>W</th>\n",
              "      <th>X</th>\n",
              "      <th>Y</th>\n",
              "      <th>Z</th>\n",
              "    </tr>\n",
              "  </thead>\n",
              "  <tbody>\n",
              "    <tr>\n",
              "      <th>E</th>\n",
              "      <td>2.20593</td>\n",
              "      <td>2.186786</td>\n",
              "      <td>1.004054</td>\n",
              "      <td>0.386186</td>\n",
              "    </tr>\n",
              "  </tbody>\n",
              "</table>\n",
              "</div>"
            ],
            "text/plain": [
              "         W         X         Y         Z\n",
              "E  2.20593  2.186786  1.004054  0.386186"
            ]
          },
          "metadata": {
            "tags": []
          },
          "execution_count": 86
        }
      ]
    },
    {
      "cell_type": "code",
      "metadata": {
        "id": "qzcBccpB-BJC",
        "colab_type": "code",
        "colab": {
          "base_uri": "https://localhost:8080/",
          "height": 425
        },
        "outputId": "88ceeaee-b8ed-4e9e-a9e7-9dc357dd1980"
      },
      "source": [
        "df = pd.read_csv('https://raw.githubusercontent.com/CunyLaguardiaDataAnalytics/datasets/master/311_Service_Requests_from_2019May.csv')\n",
        "df.groupby(['Agency'])['Borough'].max()"
      ],
      "execution_count": null,
      "outputs": [
        {
          "output_type": "stream",
          "text": [
            "/usr/local/lib/python3.6/dist-packages/IPython/core/interactiveshell.py:2718: DtypeWarning: Columns (6) have mixed types.Specify dtype option on import or set low_memory=False.\n",
            "  interactivity=interactivity, compiler=compiler, result=result)\n"
          ],
          "name": "stderr"
        },
        {
          "output_type": "execute_result",
          "data": {
            "text/plain": [
              "Agency\n",
              "ACS        Unspecified\n",
              "DCA        Unspecified\n",
              "DCAS       Unspecified\n",
              "DEP        Unspecified\n",
              "DFTA       Unspecified\n",
              "DHS      STATEN ISLAND\n",
              "DOB      STATEN ISLAND\n",
              "DOE        Unspecified\n",
              "DOF        Unspecified\n",
              "DOHMH      Unspecified\n",
              "DOITT           QUEENS\n",
              "DOT        Unspecified\n",
              "DPR        Unspecified\n",
              "DSNY     STATEN ISLAND\n",
              "EDC        Unspecified\n",
              "HPD        Unspecified\n",
              "HRA        Unspecified\n",
              "NYPD       Unspecified\n",
              "TAX        Unspecified\n",
              "TLC        Unspecified\n",
              "Name: Borough, dtype: object"
            ]
          },
          "metadata": {
            "tags": []
          },
          "execution_count": 214
        }
      ]
    },
    {
      "cell_type": "code",
      "metadata": {
        "id": "UKYVlkqnRWEy",
        "colab_type": "code",
        "colab": {
          "base_uri": "https://localhost:8080/",
          "height": 595
        },
        "outputId": "a0bc2832-d31e-4777-ddea-2e80a7bf8755"
      },
      "source": [
        "df = pd.read_csv('https://raw.githubusercontent.com/CunyLaguardiaDataAnalytics/datasets/master/mtcars.csv')\n",
        "df1=df.rename(columns={'Unnamed: 0': 'Car Brand & Model'})\n",
        "new_data=df1[['Car Brand & Model', 'mpg', 'hp','wt','cyl']]\n",
        "news=new_data.rename(columns={'mpg':'Miles','hp':'Horses','wt':'Weight','cyl':'Cylinders'})\n",
        "new_data2=df1[['mpg','Car Brand & Model']]\n",
        "new_data2\n",
        "new_data2.groupby(['Car Brand & Model'])['mpg'].count().sort_values(ascending = False)"
      ],
      "execution_count": null,
      "outputs": [
        {
          "output_type": "execute_result",
          "data": {
            "text/plain": [
              "Car Brand & Model\n",
              "Volvo 142E             1\n",
              "Valiant                1\n",
              "Cadillac Fleetwood     1\n",
              "Camaro Z28             1\n",
              "Chrysler Imperial      1\n",
              "Datsun 710             1\n",
              "Dodge Challenger       1\n",
              "Duster 360             1\n",
              "Ferrari Dino           1\n",
              "Fiat 128               1\n",
              "Fiat X1-9              1\n",
              "Ford Pantera L         1\n",
              "Honda Civic            1\n",
              "Hornet 4 Drive         1\n",
              "Hornet Sportabout      1\n",
              "Lincoln Continental    1\n",
              "Lotus Europa           1\n",
              "Maserati Bora          1\n",
              "Mazda RX4              1\n",
              "Mazda RX4 Wag          1\n",
              "Merc 230               1\n",
              "Merc 240D              1\n",
              "Merc 280               1\n",
              "Merc 280C              1\n",
              "Merc 450SE             1\n",
              "Merc 450SL             1\n",
              "Merc 450SLC            1\n",
              "Pontiac Firebird       1\n",
              "Porsche 914-2          1\n",
              "Toyota Corolla         1\n",
              "Toyota Corona          1\n",
              "AMC Javelin            1\n",
              "Name: mpg, dtype: int64"
            ]
          },
          "metadata": {
            "tags": []
          },
          "execution_count": 240
        }
      ]
    },
    {
      "cell_type": "code",
      "metadata": {
        "id": "XOaMIBT2l0id",
        "colab_type": "code",
        "colab": {}
      },
      "source": [
        "df = pd.read_csv('https://raw.githubusercontent.com/CunyLaguardiaDataAnalytics/datasets/master/311_Service_Requests_from_2019May.csv')\n",
        "print(df[~df.Borough.isin(['Unspecified', 'QUEENS'])].groupby(['Borough', 'Status'])['Unique Key'].count().sort_values(ascending=False).plot(kind='barh'))\n"
      ],
      "execution_count": null,
      "outputs": []
    },
    {
      "cell_type": "code",
      "metadata": {
        "id": "_Q7M-wfOtX8V",
        "colab_type": "code",
        "colab": {
          "base_uri": "https://localhost:8080/",
          "height": 119
        },
        "outputId": "edfaa58f-8e9b-46c3-89e8-a21aa7475863"
      },
      "source": [
        "# Rename Column\n",
        "\n",
        "#df\n",
        "#df = pd.DataFrame(np.random.randn(100, 4), columns=list('WXYZ'))\n",
        "df = df.rename(columns = {'w':'water','x':'x-ray'} )\n",
        "print(df)"
      ],
      "execution_count": null,
      "outputs": [
        {
          "output_type": "stream",
          "text": [
            "      water     x-ray         Y         Z\n",
            "A -1.085631  0.997345  0.282978 -1.506295\n",
            "B -0.578600  1.651437 -2.426679 -0.428913\n",
            "C  1.265936 -0.866740 -0.678886 -0.094709\n",
            "D  1.491390 -0.638902 -0.443982 -0.434351\n",
            "E  2.205930  2.186786  1.004054  0.386186\n"
          ],
          "name": "stdout"
        }
      ]
    },
    {
      "cell_type": "code",
      "metadata": {
        "id": "moB1PZUyj9ox",
        "colab_type": "code",
        "colab": {
          "base_uri": "https://localhost:8080/",
          "height": 68
        },
        "outputId": "a3fcc84f-99fd-4175-ca44-27f8c6ce7512"
      },
      "source": [
        "# Missing Values\n",
        "import pandas as pd\n",
        "import numpy as np\n",
        "\n",
        "df = {'A': [1,2,np.nan], 'B': [3, np.nan, np.nan]}\n",
        "df= pd.DataFrame(df)\n",
        "df.dtypes"
      ],
      "execution_count": null,
      "outputs": [
        {
          "output_type": "execute_result",
          "data": {
            "text/plain": [
              "A    float64\n",
              "B    float64\n",
              "dtype: object"
            ]
          },
          "metadata": {
            "tags": []
          },
          "execution_count": 8
        }
      ]
    },
    {
      "cell_type": "code",
      "metadata": {
        "id": "qqfM8l3CJdZD",
        "colab_type": "code",
        "colab": {
          "base_uri": "https://localhost:8080/",
          "height": 111
        },
        "outputId": "4ca7b572-dd29-45e2-f4e1-0373af818336"
      },
      "source": [
        "import pandas as pd\n",
        "import numpy as np\n",
        "\n",
        "df = pd.read_csv('https://raw.githubusercontent.com/CunyLaguardiaDataAnalytics/datasets/master/mtcars.csv')\n",
        "\n",
        "# rename column\n",
        "df=df.rename(columns = {'Unnamed: 0': 'Car'})\n",
        "#df\n",
        "\n",
        "#subset\n",
        "df2 = df[['mpg','cyl','Car']]\n",
        "#df2\n",
        "\n",
        "#rename again\n",
        "df2=df2.rename(columns = {'cyl': 'cylinders', 'mpg': 'miles per gallon'})\n",
        "#df2\n",
        "\n",
        "# Summary Stats\n",
        "\n",
        "#df2['Car'].count()\n",
        "#df2['cylinders'].describe()\n",
        "#df2.dtypes\n",
        "\n",
        "\n",
        "df2[df2['Car'].str.contains('Mazda')]\n",
        "    \n",
        "  \n"
      ],
      "execution_count": null,
      "outputs": [
        {
          "output_type": "execute_result",
          "data": {
            "text/html": [
              "<div>\n",
              "<style scoped>\n",
              "    .dataframe tbody tr th:only-of-type {\n",
              "        vertical-align: middle;\n",
              "    }\n",
              "\n",
              "    .dataframe tbody tr th {\n",
              "        vertical-align: top;\n",
              "    }\n",
              "\n",
              "    .dataframe thead th {\n",
              "        text-align: right;\n",
              "    }\n",
              "</style>\n",
              "<table border=\"1\" class=\"dataframe\">\n",
              "  <thead>\n",
              "    <tr style=\"text-align: right;\">\n",
              "      <th></th>\n",
              "      <th>miles per gallon</th>\n",
              "      <th>cylinders</th>\n",
              "      <th>Car</th>\n",
              "    </tr>\n",
              "  </thead>\n",
              "  <tbody>\n",
              "    <tr>\n",
              "      <th>0</th>\n",
              "      <td>21.0</td>\n",
              "      <td>6</td>\n",
              "      <td>Mazda RX4</td>\n",
              "    </tr>\n",
              "    <tr>\n",
              "      <th>1</th>\n",
              "      <td>21.0</td>\n",
              "      <td>6</td>\n",
              "      <td>Mazda RX4 Wag</td>\n",
              "    </tr>\n",
              "  </tbody>\n",
              "</table>\n",
              "</div>"
            ],
            "text/plain": [
              "   miles per gallon  cylinders            Car\n",
              "0              21.0          6      Mazda RX4\n",
              "1              21.0          6  Mazda RX4 Wag"
            ]
          },
          "metadata": {
            "tags": []
          },
          "execution_count": 157
        }
      ]
    },
    {
      "cell_type": "code",
      "metadata": {
        "id": "ph0c1ZP4H-6O",
        "colab_type": "code",
        "colab": {
          "base_uri": "https://localhost:8080/",
          "height": 49
        },
        "outputId": "09f36a98-5379-4791-8953-8b65de0093e7"
      },
      "source": [
        "import pandas as pd\n",
        "import numpy as np\n",
        "\n",
        "df = {'A': [1,2,np.nan], 'B':[3,np.nan, np.nan]}\n",
        "df = pd.DataFrame(df)\n",
        "#df.dropna()\n",
        "#df.dropna(axis=1)\n",
        "df.dropna(thresh=3)\n",
        "#df.fillna(value=100)"
      ],
      "execution_count": null,
      "outputs": [
        {
          "output_type": "execute_result",
          "data": {
            "text/html": [
              "<div>\n",
              "<style scoped>\n",
              "    .dataframe tbody tr th:only-of-type {\n",
              "        vertical-align: middle;\n",
              "    }\n",
              "\n",
              "    .dataframe tbody tr th {\n",
              "        vertical-align: top;\n",
              "    }\n",
              "\n",
              "    .dataframe thead th {\n",
              "        text-align: right;\n",
              "    }\n",
              "</style>\n",
              "<table border=\"1\" class=\"dataframe\">\n",
              "  <thead>\n",
              "    <tr style=\"text-align: right;\">\n",
              "      <th></th>\n",
              "      <th>A</th>\n",
              "      <th>B</th>\n",
              "    </tr>\n",
              "  </thead>\n",
              "  <tbody>\n",
              "  </tbody>\n",
              "</table>\n",
              "</div>"
            ],
            "text/plain": [
              "Empty DataFrame\n",
              "Columns: [A, B]\n",
              "Index: []"
            ]
          },
          "metadata": {
            "tags": []
          },
          "execution_count": 207
        }
      ]
    }
  ]
}